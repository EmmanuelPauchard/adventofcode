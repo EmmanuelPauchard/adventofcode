{
 "cells": [
  {
   "cell_type": "markdown",
   "metadata": {},
   "source": [
    "# Day 9"
   ]
  },
  {
   "cell_type": "code",
   "execution_count": 1,
   "metadata": {},
   "outputs": [],
   "source": [
    "test_data = \"\"\"R 4\n",
    "U 4\n",
    "L 3\n",
    "D 1\n",
    "R 4\n",
    "D 1\n",
    "L 5\n",
    "R 2\"\"\""
   ]
  },
  {
   "cell_type": "code",
   "execution_count": 2,
   "metadata": {},
   "outputs": [
    {
     "name": "stdout",
     "output_type": "stream",
     "text": [
      "Running AdventOfCode : 13\n"
     ]
    }
   ],
   "source": [
    "from adventofcode import AdventOfCode\n",
    "\n",
    "class Day9(AdventOfCode):\n",
    "\n",
    "    def get_input_commands(self):\n",
    "        commands_dict = {\n",
    "            \"U\": (0, 1),\n",
    "            \"D\": (0, -1),\n",
    "            \"L\": (-1, 0),\n",
    "            \"R\": (1, 0),\n",
    "        }\n",
    "        steps = []\n",
    "        for c in self.input_data.strip().split(\"\\n\"):\n",
    "            steps += [commands_dict[c.split(\" \")[0]]]*int(c.split(\" \")[1])\n",
    "        return steps\n",
    "\n",
    "    @staticmethod\n",
    "    def is_movement_needed(pointa, pointb):\n",
    "        xh, yh = pointa\n",
    "        xt, yt = pointb\n",
    "        return not (abs(xh - xt) <= 1 and abs(yh - yt) <= 1)\n",
    "\n",
    "    @staticmethod\n",
    "    def track_point(tail, head):\n",
    "        xh, yh = head\n",
    "        xt, yt = tail\n",
    "\n",
    "        xr, yr = (0,0)\n",
    "\n",
    "        # update tail\n",
    "        if xt != xh and yt != yh:\n",
    "            # Diagonal\n",
    "            if yh > yt:\n",
    "                yr += 1\n",
    "            elif yh < yt:\n",
    "                yr -= 1\n",
    "            if xh > xt:\n",
    "                xr += 1\n",
    "            elif xh < xt:\n",
    "                xr -= 1\n",
    "        else:\n",
    "            if yt == yh:\n",
    "                # Horizontal\n",
    "                if xh > xt:\n",
    "                    xr += 1\n",
    "                elif xh < xt:\n",
    "                    xr -= 1\n",
    "            if xt == xh:\n",
    "                # Vertical\n",
    "                if yh > yt:\n",
    "                    yr += 1\n",
    "                elif yh < yt:\n",
    "                    yr -= 1\n",
    "        return (xr, yr)\n",
    "\n",
    "    def solve(self):\n",
    "        xt, yt = 0, 0\n",
    "        xh, yh = 0, 0\n",
    "\n",
    "        steps = self.get_input_commands()\n",
    "\n",
    "        visited = {(0, 0): 1}\n",
    "\n",
    "        for command in steps:\n",
    "            # update head\n",
    "            xh += command[0]\n",
    "            yh += command[1]\n",
    "\n",
    "            if not self.is_movement_needed((xh, yh), (xt, yt)):\n",
    "                continue\n",
    "\n",
    "            a, b = self.track_point((xt, yt), (xh, yh))\n",
    "            xt += a\n",
    "            yt += b\n",
    "            \n",
    "            # Mark as visited\n",
    "            visited[(xt, yt)] = 1\n",
    "\n",
    "        return len(visited)\n",
    "\n",
    "assert Day9(test_data).run() == 13"
   ]
  },
  {
   "cell_type": "code",
   "execution_count": 3,
   "metadata": {},
   "outputs": [
    {
     "name": "stdout",
     "output_type": "stream",
     "text": [
      "Running AdventOfCode Day9: 6367\n"
     ]
    },
    {
     "data": {
      "text/plain": [
       "6367"
      ]
     },
     "execution_count": 3,
     "metadata": {},
     "output_type": "execute_result"
    }
   ],
   "source": [
    "from adventofcode import AdventOfCodeFromFileInput\n",
    "\n",
    "\n",
    "challenge = AdventOfCodeFromFileInput(Day9, \"input_9.txt\")\n",
    "challenge.run()"
   ]
  },
  {
   "cell_type": "markdown",
   "metadata": {},
   "source": [
    "Part 2"
   ]
  },
  {
   "cell_type": "code",
   "execution_count": 4,
   "metadata": {},
   "outputs": [],
   "source": [
    "import numpy as np\n",
    "\n",
    "class Day9Part2(Day9):\n",
    "    def solve(self):\n",
    "        # Line 0 is head, 9 is tail\n",
    "        knots = np.zeros((10, 2))\n",
    "\n",
    "        steps = self.get_input_commands()\n",
    "\n",
    "        visited = {(0, 0): 1}\n",
    "\n",
    "        for command in steps:\n",
    "            # update head\n",
    "            knots[0,:] += np.array(command)\n",
    "\n",
    "            for kprev, kcurr in zip(knots[:-1], knots[1:]):\n",
    "                if not self.is_movement_needed(kcurr.tolist(), kprev.tolist()):\n",
    "                    continue\n",
    "\n",
    "                a, b = self.track_point(kcurr.tolist(), kprev.tolist())\n",
    "                kcurr += np.array((a, b))\n",
    "            \n",
    "            # Mark as visited\n",
    "            visited[tuple(knots[-1,:])] = 1\n",
    "\n",
    "        return len(visited)"
   ]
  },
  {
   "cell_type": "code",
   "execution_count": 5,
   "metadata": {},
   "outputs": [
    {
     "name": "stdout",
     "output_type": "stream",
     "text": [
      "Running AdventOfCode : 36\n",
      "Expected 36\n"
     ]
    }
   ],
   "source": [
    "test_data = \"\"\"R 5\n",
    "U 8\n",
    "L 8\n",
    "D 3\n",
    "R 17\n",
    "D 10\n",
    "L 25\n",
    "U 20\"\"\"\n",
    "\n",
    "Day9Part2(test_data).run()\n",
    "print(\"Expected 36\")"
   ]
  },
  {
   "cell_type": "code",
   "execution_count": 6,
   "metadata": {},
   "outputs": [
    {
     "name": "stdout",
     "output_type": "stream",
     "text": [
      "Running AdventOfCode Day9Part2: 2536\n"
     ]
    },
    {
     "data": {
      "text/plain": [
       "2536"
      ]
     },
     "execution_count": 6,
     "metadata": {},
     "output_type": "execute_result"
    }
   ],
   "source": [
    "from adventofcode import AdventOfCodeFromFileInput\n",
    "\n",
    "\n",
    "challenge = AdventOfCodeFromFileInput(Day9Part2, \"input_9.txt\")\n",
    "challenge.run()"
   ]
  }
 ],
 "metadata": {
  "kernelspec": {
   "display_name": "Python 3.9.13 64-bit (microsoft store)",
   "language": "python",
   "name": "python3"
  },
  "language_info": {
   "codemirror_mode": {
    "name": "ipython",
    "version": 3
   },
   "file_extension": ".py",
   "mimetype": "text/x-python",
   "name": "python",
   "nbconvert_exporter": "python",
   "pygments_lexer": "ipython3",
   "version": "3.9.13"
  },
  "orig_nbformat": 4,
  "vscode": {
   "interpreter": {
    "hash": "2b75f2f130f9eb1b131c9f00ea3c2842aaf5f8ceec9a3fb1a2d4529670805511"
   }
  }
 },
 "nbformat": 4,
 "nbformat_minor": 2
}
