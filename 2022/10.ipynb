{
 "cells": [
  {
   "cell_type": "markdown",
   "metadata": {},
   "source": [
    "# Day 10"
   ]
  },
  {
   "cell_type": "code",
   "execution_count": 50,
   "metadata": {},
   "outputs": [],
   "source": [
    "from adventofcode import AdventOfCode\n",
    "\n",
    "class Day10(AdventOfCode):\n",
    "\n",
    "    def solve(self):\n",
    "        x = 1\n",
    "        cycle = 1\n",
    "        commands = self.input_data.strip().split(\"\\n\")\n",
    "        i = 0\n",
    "        paused = False\n",
    "        signal_strength = 0\n",
    "        while True:\n",
    "            \n",
    "            if (cycle - 20) % 40 == 0:\n",
    "                signal_strength += cycle * x\n",
    "                # print(f\"Signal strength + {cycle * x} {signal_strength}\")\n",
    "\n",
    "            if paused:\n",
    "                val = int(commands[i].split(\" \")[1])\n",
    "                # print(f\"{cycle} {x} + {val} = {x+val}\")\n",
    "                x += int(commands[i].split(\" \")[1])\n",
    "                paused = False\n",
    "                i += 1\n",
    "            else:\n",
    "                c = commands[i]\n",
    "                if \"addx\" in c:\n",
    "                    # print(f\"{cycle} Add {commands[i]}\")\n",
    "                    paused = True\n",
    "                else:\n",
    "                    # print(f\"{cycle} {commands[i]}\")\n",
    "                    i += 1\n",
    "\n",
    "            if i >= len(commands):\n",
    "                break\n",
    "                \n",
    "            cycle += 1\n",
    "        \n",
    "        return signal_strength\n"
   ]
  },
  {
   "cell_type": "code",
   "execution_count": 51,
   "metadata": {},
   "outputs": [
    {
     "name": "stdout",
     "output_type": "stream",
     "text": [
      "Running AdventOfCode : 13140\n"
     ]
    },
    {
     "data": {
      "text/plain": [
       "13140"
      ]
     },
     "execution_count": 51,
     "metadata": {},
     "output_type": "execute_result"
    }
   ],
   "source": [
    "test_data = \"\"\"addx 15\n",
    "addx -11\n",
    "addx 6\n",
    "addx -3\n",
    "addx 5\n",
    "addx -1\n",
    "addx -8\n",
    "addx 13\n",
    "addx 4\n",
    "noop\n",
    "addx -1\n",
    "addx 5\n",
    "addx -1\n",
    "addx 5\n",
    "addx -1\n",
    "addx 5\n",
    "addx -1\n",
    "addx 5\n",
    "addx -1\n",
    "addx -35\n",
    "addx 1\n",
    "addx 24\n",
    "addx -19\n",
    "addx 1\n",
    "addx 16\n",
    "addx -11\n",
    "noop\n",
    "noop\n",
    "addx 21\n",
    "addx -15\n",
    "noop\n",
    "noop\n",
    "addx -3\n",
    "addx 9\n",
    "addx 1\n",
    "addx -3\n",
    "addx 8\n",
    "addx 1\n",
    "addx 5\n",
    "noop\n",
    "noop\n",
    "noop\n",
    "noop\n",
    "noop\n",
    "addx -36\n",
    "noop\n",
    "addx 1\n",
    "addx 7\n",
    "noop\n",
    "noop\n",
    "noop\n",
    "addx 2\n",
    "addx 6\n",
    "noop\n",
    "noop\n",
    "noop\n",
    "noop\n",
    "noop\n",
    "addx 1\n",
    "noop\n",
    "noop\n",
    "addx 7\n",
    "addx 1\n",
    "noop\n",
    "addx -13\n",
    "addx 13\n",
    "addx 7\n",
    "noop\n",
    "addx 1\n",
    "addx -33\n",
    "noop\n",
    "noop\n",
    "noop\n",
    "addx 2\n",
    "noop\n",
    "noop\n",
    "noop\n",
    "addx 8\n",
    "noop\n",
    "addx -1\n",
    "addx 2\n",
    "addx 1\n",
    "noop\n",
    "addx 17\n",
    "addx -9\n",
    "addx 1\n",
    "addx 1\n",
    "addx -3\n",
    "addx 11\n",
    "noop\n",
    "noop\n",
    "addx 1\n",
    "noop\n",
    "addx 1\n",
    "noop\n",
    "noop\n",
    "addx -13\n",
    "addx -19\n",
    "addx 1\n",
    "addx 3\n",
    "addx 26\n",
    "addx -30\n",
    "addx 12\n",
    "addx -1\n",
    "addx 3\n",
    "addx 1\n",
    "noop\n",
    "noop\n",
    "noop\n",
    "addx -9\n",
    "addx 18\n",
    "addx 1\n",
    "addx 2\n",
    "noop\n",
    "noop\n",
    "addx 9\n",
    "noop\n",
    "noop\n",
    "noop\n",
    "addx -1\n",
    "addx 2\n",
    "addx -37\n",
    "addx 1\n",
    "addx 3\n",
    "noop\n",
    "addx 15\n",
    "addx -21\n",
    "addx 22\n",
    "addx -6\n",
    "addx 1\n",
    "noop\n",
    "addx 2\n",
    "addx 1\n",
    "noop\n",
    "addx -10\n",
    "noop\n",
    "noop\n",
    "addx 20\n",
    "addx 1\n",
    "addx 2\n",
    "addx 2\n",
    "addx -6\n",
    "addx -11\n",
    "noop\n",
    "noop\n",
    "noop\n",
    "\"\"\"\n",
    "Day10(test_data).run()\n"
   ]
  },
  {
   "cell_type": "code",
   "execution_count": 52,
   "metadata": {},
   "outputs": [
    {
     "name": "stdout",
     "output_type": "stream",
     "text": [
      "Running AdventOfCode Day10: 11820\n"
     ]
    },
    {
     "data": {
      "text/plain": [
       "11820"
      ]
     },
     "execution_count": 52,
     "metadata": {},
     "output_type": "execute_result"
    }
   ],
   "source": [
    "from adventofcode import AdventOfCodeFromFileInput\n",
    "\n",
    "\n",
    "challenge = AdventOfCodeFromFileInput(Day10, \"input_10.txt\")\n",
    "challenge.run()"
   ]
  },
  {
   "cell_type": "markdown",
   "metadata": {},
   "source": [
    "Part 2"
   ]
  },
  {
   "cell_type": "code",
   "execution_count": 114,
   "metadata": {},
   "outputs": [],
   "source": [
    "from adventofcode import AdventOfCode\n",
    "import numpy as np\n",
    "from PIL import Image as im\n",
    "\n",
    "class Day10Part2(AdventOfCode):\n",
    "\n",
    "    def get_sprite_positions(self):\n",
    "        \"\"\"Return np.array containing index of middle sprite for all cycles in [1, 240]\"\"\"\n",
    "        x = 1\n",
    "        cycle = 1\n",
    "        commands = self.input_data.strip().split(\"\\n\")\n",
    "        i = 0\n",
    "        paused = False\n",
    "\n",
    "        sprite_pos = np.arange((240))\n",
    "\n",
    "        while True:\n",
    "            if paused:\n",
    "                val = int(commands[i].split(\" \")[1])\n",
    "                x += int(commands[i].split(\" \")[1])\n",
    "                paused = False\n",
    "                i += 1\n",
    "            else:\n",
    "                c = commands[i]\n",
    "                if \"addx\" in c:\n",
    "                    paused = True\n",
    "                else:\n",
    "                    i += 1\n",
    "\n",
    "            if i >= len(commands):\n",
    "                break\n",
    "                \n",
    "            sprite_pos[cycle] = x\n",
    "            cycle += 1\n",
    "        \n",
    "        return sprite_pos\n",
    "\n",
    "\n",
    "    def solve(self):\n",
    "        sprite_pos = self.get_sprite_positions()\n",
    "        screen = np.zeros(sprite_pos.shape, np.uint8)\n",
    "\n",
    "        for i, _ in enumerate(sprite_pos):\n",
    "            screen[i] = 255 if sprite_pos[i]-1<=(i % 40)<=sprite_pos[i]+1 else 0\n",
    "\n",
    "        screen = screen.reshape((6,-1))\n",
    "        im.fromarray(screen).save(f'result_{self.name}.png')"
   ]
  },
  {
   "cell_type": "code",
   "execution_count": 117,
   "metadata": {},
   "outputs": [
    {
     "name": "stdout",
     "output_type": "stream",
     "text": [
      "Running AdventOfCode test: None\n"
     ]
    }
   ],
   "source": [
    "Day10Part2(test_data, name=\"test\").run()"
   ]
  },
  {
   "cell_type": "markdown",
   "metadata": {},
   "source": [
    "![result](10/result_test.png)"
   ]
  },
  {
   "cell_type": "code",
   "execution_count": 116,
   "metadata": {},
   "outputs": [
    {
     "name": "stdout",
     "output_type": "stream",
     "text": [
      "Running AdventOfCode Day10Part2: None\n"
     ]
    }
   ],
   "source": [
    "\n",
    "from adventofcode import AdventOfCodeFromFileInput\n",
    "\n",
    "\n",
    "challenge = AdventOfCodeFromFileInput(Day10Part2, \"input_10.txt\")\n",
    "challenge.run()"
   ]
  },
  {
   "cell_type": "markdown",
   "metadata": {},
   "source": [
    "![result](10/result_Day10Part2.png)"
   ]
  }
 ],
 "metadata": {
  "kernelspec": {
   "display_name": "Python 3.9.13 64-bit (microsoft store)",
   "language": "python",
   "name": "python3"
  },
  "language_info": {
   "codemirror_mode": {
    "name": "ipython",
    "version": 3
   },
   "file_extension": ".py",
   "mimetype": "text/x-python",
   "name": "python",
   "nbconvert_exporter": "python",
   "pygments_lexer": "ipython3",
   "version": "3.9.13"
  },
  "orig_nbformat": 4,
  "vscode": {
   "interpreter": {
    "hash": "2b75f2f130f9eb1b131c9f00ea3c2842aaf5f8ceec9a3fb1a2d4529670805511"
   }
  }
 },
 "nbformat": 4,
 "nbformat_minor": 2
}
