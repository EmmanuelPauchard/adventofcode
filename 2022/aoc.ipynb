{
 "cells": [
  {
   "cell_type": "markdown",
   "metadata": {},
   "source": [
    "# Advent of code 2022 day 1, puzzle 1"
   ]
  },
  {
   "cell_type": "markdown",
   "metadata": {},
   "source": [
    "Read file"
   ]
  },
  {
   "cell_type": "code",
   "execution_count": null,
   "metadata": {},
   "outputs": [],
   "source": [
    "with open(\"1/input.txt\", \"r\") as f:\n",
    "    input = f.read()"
   ]
  },
  {
   "cell_type": "markdown",
   "metadata": {},
   "source": [
    "convert file to list of lists"
   ]
  },
  {
   "cell_type": "code",
   "execution_count": null,
   "metadata": {},
   "outputs": [],
   "source": [
    "entries = input.split(\"\\n\\n\")\n",
    "entries = [list(map(int, e.strip().split(\"\\n\"))) for e in entries]\n",
    "len(entries)"
   ]
  },
  {
   "cell_type": "markdown",
   "metadata": {},
   "source": [
    "Sum each element and get the maximum value"
   ]
  },
  {
   "cell_type": "code",
   "execution_count": null,
   "metadata": {},
   "outputs": [],
   "source": [
    "entries_summed = list(map(sum, entries))\n",
    "print(f\"Maximum value is: {max(entries_summed)} @ {entries_summed.index(max(entries_summed))}\")"
   ]
  },
  {
   "cell_type": "markdown",
   "metadata": {},
   "source": [
    "Sort the list and get top three"
   ]
  },
  {
   "cell_type": "code",
   "execution_count": null,
   "metadata": {},
   "outputs": [],
   "source": [
    "entries_summed_sort = sorted(entries_summed, reverse=True)\n",
    "print(f\"Top 3 are: {entries_summed_sort[:3]} sum is {sum(entries_summed_sort[:3])}\")"
   ]
  },
  {
   "cell_type": "markdown",
   "metadata": {},
   "source": [
    " # Day 2"
   ]
  },
  {
   "cell_type": "code",
   "execution_count": null,
   "metadata": {},
   "outputs": [],
   "source": [
    "import re\n",
    "\n",
    "with open(\"input_2.txt\", \"r\") as f:\n",
    "    input_2 = f.read()\n",
    "    opponent_moves = re.findall(\"^.\", input_2, re.MULTILINE)\n",
    "    your_moves = re.findall(\".$\", input_2, re.MULTILINE)"
   ]
  },
  {
   "cell_type": "code",
   "execution_count": null,
   "metadata": {},
   "outputs": [],
   "source": [
    "\n",
    "def get_score(opponent, you):\n",
    "    indiv_scores = {\n",
    "        \"X\": 1, # Rock\n",
    "        \"Y\": 2, # Paper\n",
    "        \"Z\": 3, # Scissors\n",
    "    }\n",
    "\n",
    "    \"\"\"Return 6 if you win, 0 if you lose, 3 in case of draw \n",
    "      first level key: opponent: 1 char string from 'ABC' representing Rock, Paper, Scissors\n",
    "      second level key: you: 1 char string from 'XYZ' representing Rock, Paper, Scissors\n",
    "    \"\"\"\n",
    "    rules = {\n",
    "        \"A\": {\"X\": 3, \"Y\": 6, \"Z\": 0},\n",
    "        \"B\": {\"X\": 0, \"Y\": 3, \"Z\": 6},\n",
    "        \"C\": {\"X\": 6, \"Y\": 0, \"Z\": 3},\n",
    "    }\n",
    "\n",
    "    return rules[opponent][you] + indiv_scores[you]"
   ]
  },
  {
   "cell_type": "markdown",
   "metadata": {},
   "source": [
    "Test function with the given example"
   ]
  },
  {
   "cell_type": "code",
   "execution_count": null,
   "metadata": {},
   "outputs": [],
   "source": [
    "from itertools import starmap\n",
    "assert list(starmap(get_score, zip(\"ABC\", \"YXZ\"))) == [8, 1, 6]"
   ]
  },
  {
   "cell_type": "markdown",
   "metadata": {},
   "source": [
    "Do the work: first part"
   ]
  },
  {
   "cell_type": "code",
   "execution_count": null,
   "metadata": {},
   "outputs": [],
   "source": [
    "sum(starmap(get_score, zip(opponent_moves, your_moves)))"
   ]
  },
  {
   "cell_type": "markdown",
   "metadata": {},
   "source": [
    "Second part"
   ]
  },
  {
   "cell_type": "code",
   "execution_count": null,
   "metadata": {},
   "outputs": [],
   "source": [
    "\n",
    "def get_score_2(opponent, you):\n",
    "    indiv_scores = {\n",
    "        \"X\": 1, # Rock\n",
    "        \"Y\": 2, # Paper\n",
    "        \"Z\": 3, # Scissors\n",
    "    }\n",
    "\n",
    "    \"\"\"Return 6 if you win, 0 if you lose, 3 in case of draw \n",
    "      first level key: opponent: 1 char string from 'ABC' representing Rock, Paper, Scissors\n",
    "      second level key: you: 1 char string from 'XYZ' representing Rock, Paper, Scissors\n",
    "    \"\"\"\n",
    "    rules = {\n",
    "        \"A\": {\"X\": \"Z\", \n",
    "              \"Y\": \"X\",\n",
    "              \"Z\": \"Y\"},\n",
    "        \"B\": {\"X\": \"X\", \n",
    "              \"Y\": \"Y\",\n",
    "              \"Z\": \"Z\"},\n",
    "        \"C\": {\"X\": \"Y\",\n",
    "              \"Y\": \"Z\",\n",
    "              \"Z\": \"X\"},\n",
    "    }\n",
    "\n",
    "    target = {\"X\": 0, \"Y\": 3, \"Z\": 6}\n",
    "\n",
    "    return target[you] + indiv_scores[rules[opponent][you]]"
   ]
  },
  {
   "cell_type": "code",
   "execution_count": null,
   "metadata": {},
   "outputs": [],
   "source": [
    "sum(starmap(get_score_2, zip(opponent_moves, your_moves)))"
   ]
  },
  {
   "cell_type": "markdown",
   "metadata": {},
   "source": [
    "# Day 3"
   ]
  },
  {
   "cell_type": "code",
   "execution_count": null,
   "metadata": {},
   "outputs": [],
   "source": [
    "import re\n",
    "\n",
    "with open(\"input_3.txt\", \"r\") as f:\n",
    "    input_3 = f.read()\n",
    "    "
   ]
  },
  {
   "cell_type": "markdown",
   "metadata": {},
   "source": [
    "Create a list of Rucksacks, each element being a list of both compartiments.\n",
    "Split input in half for each element"
   ]
  },
  {
   "cell_type": "code",
   "execution_count": null,
   "metadata": {},
   "outputs": [],
   "source": [
    "def get_compartment(input):\n",
    "    # Split in half\n",
    "    return (input[:len(input)//2], input[len(input)//2:])\n",
    "\n",
    "import string\n",
    "def get_priority(c):\n",
    "    priorities = {string.ascii_letters[i]: i+1 for i in range(0, len(string.ascii_letters))}\n",
    "    return priorities[c]\n",
    "\n",
    "def find_common_char(a, b, c=None):\n",
    "    \"\"\"Find common characters in the given two input strings\"\"\"\n",
    "    common_chars = [x for x in a if (x in b and (c is None or x in c))]\n",
    "    # assert len(common_chars) == 1, f\"Found several matches {common_chars} in inputs {a} and {b}\"\n",
    "    return common_chars[0]"
   ]
  },
  {
   "cell_type": "markdown",
   "metadata": {},
   "source": [
    "Step 1: sum all common items"
   ]
  },
  {
   "cell_type": "code",
   "execution_count": null,
   "metadata": {},
   "outputs": [],
   "source": [
    "compartments = map(get_compartment, input_3.split())\n",
    "summed_priority_common_item = sum(map(get_priority, starmap(find_common_char, compartments)))\n",
    "summed_priority_common_item"
   ]
  },
  {
   "cell_type": "markdown",
   "metadata": {},
   "source": [
    "Step 2: sum the priority of badges from 3 common elves"
   ]
  },
  {
   "cell_type": "code",
   "execution_count": null,
   "metadata": {},
   "outputs": [],
   "source": [
    "groups = input_3.split()\n",
    "groups = [groups[n:n+3] for n in range(0, len(groups), 3)]\n",
    "summed_priority_common_item = sum(map(get_priority, starmap(find_common_char, groups)))\n",
    "summed_priority_common_item"
   ]
  },
  {
   "cell_type": "markdown",
   "metadata": {},
   "source": [
    "# Day 4"
   ]
  },
  {
   "cell_type": "code",
   "execution_count": null,
   "metadata": {},
   "outputs": [],
   "source": [
    "# 14-50,14-50\n",
    "with open(\"input_4.txt\", \"r\") as f:\n",
    "    input_4 = f.read()\n",
    "\n"
   ]
  },
  {
   "cell_type": "code",
   "execution_count": null,
   "metadata": {},
   "outputs": [],
   "source": [
    "# Create a list of \n",
    "#  pair: one elf, the other\n",
    "#     pair: start section, end section\n",
    "\n",
    "all_values = re.findall(r\"(\\d+)-(\\d+),(\\d+)-(\\d+)\",input_4)\n",
    "sections = [[(int(g[0]), int(g[1])), (int(g[2]), int(g[3]))] for g in all_values]\n",
    "sections\n"
   ]
  },
  {
   "cell_type": "markdown",
   "metadata": {},
   "source": [
    "Count the number of pairs where one set fully contains the other"
   ]
  },
  {
   "cell_type": "code",
   "execution_count": null,
   "metadata": {},
   "outputs": [],
   "source": [
    "# This version uses indices\n",
    "def is_superset(x, y):\n",
    "    return (x[0] >= y[0] and x[1] <= y[1]) or (x[0] <= y[0] and x[1] >= y[1])\n"
   ]
  },
  {
   "cell_type": "code",
   "execution_count": null,
   "metadata": {},
   "outputs": [],
   "source": [
    " #This version uses set.issubset\n",
    " def is_superset(x, y):\n",
    "    a = set(range(x[0], x[1] + 1))\n",
    "    b = set(range(y[0], y[1] + 1))\n",
    "    return a.issubset(b) or b.issubset(a)\n",
    "    "
   ]
  },
  {
   "cell_type": "code",
   "execution_count": null,
   "metadata": {},
   "outputs": [],
   "source": [
    "\n",
    "len([_ for a in sections if is_superset(*a)])"
   ]
  },
  {
   "cell_type": "code",
   "execution_count": null,
   "metadata": {},
   "outputs": [],
   "source": [
    "# Test the fonction on the given example\n",
    "input_4_test = \"\"\"2-4,6-8\n",
    "2-3,4-5\n",
    "5-7,7-9\n",
    "2-8,3-7\n",
    "6-6,4-6\n",
    "2-6,4-8\n",
    "\"\"\"\n",
    "all_values = re.findall(r\"(\\d+)-(\\d+),(\\d+)-(\\d+)\",input_4_test)\n",
    "sections = [[(int(g[0]), int(g[1])), (int(g[2]), int(g[3]))] for g in all_values]\n",
    "assert len([_ for a, b in sections if is_superset(a, b)]) == 2\n"
   ]
  },
  {
   "cell_type": "markdown",
   "metadata": {},
   "source": [
    " # Day 5"
   ]
  },
  {
   "cell_type": "code",
   "execution_count": null,
   "metadata": {},
   "outputs": [],
   "source": [
    "with open(\"input_5.txt\", \"r\") as f:\n",
    "    input_5 = f.read()"
   ]
  },
  {
   "cell_type": "code",
   "execution_count": null,
   "metadata": {},
   "outputs": [],
   "source": [
    "def get_commands(text):\n",
    "    commands = re.findall(r\"move\\s+(\\d+)\\s+from\\s+(\\d)\\s+to\\s+(\\d)\", text)\n",
    "    return [(int(a), int(b), int(c)) for a, b, c in commands]"
   ]
  },
  {
   "cell_type": "code",
   "execution_count": null,
   "metadata": {},
   "outputs": [],
   "source": [
    "def work(commands, stacks, rev=True):\n",
    "    for quantity, in_stack, out_stack in commands:\n",
    "        crates = stacks[in_stack][-quantity:]\n",
    "        if rev:\n",
    "            crates = reversed(crates)\n",
    "        stacks[out_stack] += \"\".join(crates)\n",
    "        stacks[in_stack] = stacks[in_stack][:-quantity]\n",
    "    return \"\".join(i[-1] for i in stacks.values())"
   ]
  },
  {
   "cell_type": "code",
   "execution_count": null,
   "metadata": {},
   "outputs": [],
   "source": [
    "# commands = re.findall(r\"move\\s+(\\d+)\\s+from\\s+(\\d)\\s+to\\s+(\\d)\", input_5)\n",
    "# commands = [(int(a), int(b), int(c)) for a, b, c in commands]\n",
    "commands = get_commands(input_5)"
   ]
  },
  {
   "cell_type": "code",
   "execution_count": null,
   "metadata": {},
   "outputs": [],
   "source": [
    "# # Deepest == right-most\n",
    "# stacks = {\n",
    "#     1: \"NQLSCZPT\",\n",
    "#     2: \"GCHVTPL\",\n",
    "#     3: \"FZCD\",\n",
    "#     4: \"CVMLDTWG\",\n",
    "#     5: \"CWP\",\n",
    "#     6: \"ZSTCDJFP\",\n",
    "#     7: \"DBGWV\",\n",
    "#     8: \"WHQSJN\",\n",
    "#     9: \"VLSFQCR\",\n",
    "# }\n",
    "\n",
    "# stacks = {i: \"\".join(reversed(stacks[i])) for i in stacks}\n",
    "# import pprint\n",
    "\n",
    "# pprint.pprint(stacks)\n",
    "\n",
    "# Deepest == left-most\n",
    "stacks = {\n",
    "    1: \"TPZCSLQN\",\n",
    "    2: \"LPTVHCG\",\n",
    "    3: \"DCZF\",\n",
    "    4: \"GWTDLMVC\",\n",
    "    5: \"PWC\",\n",
    "    6: \"PFJDCTSZ\",\n",
    "    7: \"VWGBD\",\n",
    "    8: \"NJSQHW\",\n",
    "    9: \"RCQFSLV\",\n",
    "}\n"
   ]
  },
  {
   "cell_type": "code",
   "execution_count": null,
   "metadata": {},
   "outputs": [],
   "source": [
    "test_stack = {\n",
    "    1: \"ZN\",\n",
    "    2: \"MCD\",\n",
    "    3: \"P\"\n",
    "}\n",
    "\n",
    "test_commands = \"\"\"\n",
    "move 1 from 2 to 1\n",
    "move 3 from 1 to 3\n",
    "move 2 from 2 to 1\n",
    "move 1 from 1 to 2\n",
    "\"\"\"\n",
    "\n",
    "commands = get_commands(test_commands)\n",
    "result = work(commands, test_stack)\n",
    "assert result == \"CMZ\", f\"Found {result}\"\n",
    "\n",
    "test_stack = {\n",
    "    1: \"ZN\",\n",
    "    2: \"MCD\",\n",
    "    3: \"P\"\n",
    "}\n",
    "result = work(commands, test_stack, rev=False)\n",
    "assert result == \"MCD\", f\"Found {result}\""
   ]
  },
  {
   "cell_type": "markdown",
   "metadata": {},
   "source": [
    "Execute code: part 1"
   ]
  },
  {
   "cell_type": "code",
   "execution_count": null,
   "metadata": {},
   "outputs": [],
   "source": [
    "commands = get_commands(input_5)\n",
    "i = stacks\n",
    "work(commands, i)"
   ]
  },
  {
   "cell_type": "markdown",
   "metadata": {},
   "source": [
    "Part 2"
   ]
  },
  {
   "cell_type": "code",
   "execution_count": null,
   "metadata": {},
   "outputs": [],
   "source": [
    "j = stacks\n",
    "work(commands, j, rev=False)"
   ]
  },
  {
   "cell_type": "markdown",
   "metadata": {},
   "source": [
    "# Day 6"
   ]
  },
  {
   "cell_type": "code",
   "execution_count": null,
   "metadata": {},
   "outputs": [],
   "source": [
    "from adventofcode import AdventOfCode\n",
    "\n",
    "class Day6(AdventOfCode):\n",
    "    num_of_chars = 4\n",
    "    def solve(self):\n",
    "        for i in range(self.num_of_chars, len(self.input_data)):\n",
    "            if len(set(self.input_data[i-self.num_of_chars:i])) == self.num_of_chars:\n",
    "                return i"
   ]
  },
  {
   "cell_type": "markdown",
   "metadata": {},
   "source": [
    "Test"
   ]
  },
  {
   "cell_type": "code",
   "execution_count": null,
   "metadata": {},
   "outputs": [],
   "source": [
    "from adventofcode import AdventOfCode\n",
    "\n",
    "test_data = [\n",
    "    (\"bvwbjplbgvbhsrlpgdmjqwftvncz\", 5),\n",
    "    (\"nppdvjthqldpwncqszvftbrmjlhg\", 6),\n",
    "    (\"nznrnfrfntjfmvfwmzdfjlvtqnbhcprsg\", 10),\n",
    "    (\"zcfzfwzzqfrljwzlrfnpqdbhtmscgvjw\", 11),\n",
    "]\n",
    "\n",
    "for inp, exp in test_data:\n",
    "    res = Day6(inp).solve()\n",
    "    assert res == exp, f\"Challenge {inp}:{exp}, received {res}\""
   ]
  },
  {
   "cell_type": "markdown",
   "metadata": {},
   "source": [
    "Run part 1"
   ]
  },
  {
   "cell_type": "code",
   "execution_count": null,
   "metadata": {},
   "outputs": [],
   "source": [
    "from adventofcode import AdventOfCodeFromFileInput\n",
    "\n",
    "challenge = AdventOfCodeFromFileInput(Day6, \"input_6.txt\")\n",
    "challenge.run()"
   ]
  },
  {
   "cell_type": "markdown",
   "metadata": {},
   "source": [
    "Part 2"
   ]
  },
  {
   "cell_type": "code",
   "execution_count": null,
   "metadata": {},
   "outputs": [],
   "source": [
    "class Day6Part2(Day6):\n",
    "    num_of_chars = 14    "
   ]
  },
  {
   "cell_type": "code",
   "execution_count": null,
   "metadata": {},
   "outputs": [],
   "source": [
    "# part 2 test data\n",
    "test_data = {\n",
    "    (\"mjqjpqmgbljsphdztnvjfqwrcgsmlb\", 19),\n",
    "    (\"bvwbjplbgvbhsrlpgdmjqwftvncz\", 23),\n",
    "    (\"nppdvjthqldpwncqszvftbrmjlhg\", 23),\n",
    "    (\"nznrnfrfntjfmvfwmzdfjlvtqnbhcprsg\", 29),\n",
    "    (\"zcfzfwzzqfrljwzlrfnpqdbhtmscgvjw\", 26),\n",
    "}\n",
    "\n",
    "for inp, exp in test_data:\n",
    "    res = Day6Part2(inp).solve()\n",
    "    assert res == exp, f\"Challenge {inp}:{exp}, received {res}\""
   ]
  },
  {
   "cell_type": "code",
   "execution_count": null,
   "metadata": {},
   "outputs": [],
   "source": [
    "challenge = AdventOfCodeFromFileInput(Day6Part2, \"input_6.txt\")\n",
    "challenge.run()"
   ]
  },
  {
   "cell_type": "markdown",
   "metadata": {},
   "source": [
    "# Day 7\n",
    "\n",
    "I did some architecture tests on this one. See [the specific script](https://github.com/EmmanuelPauchard/adventofcode/blob/master/2022/7/7.ipynb)."
   ]
  },
  {
   "cell_type": "markdown",
   "metadata": {},
   "source": [
    "# Day 8"
   ]
  },
  {
   "cell_type": "markdown",
   "metadata": {},
   "source": [
    "Today's challenges define matrices, so we'll switch to numpy.\n",
    "The basic idea of this solution is to define one function that solves the challenge for one row, for a direction, and then to extract all rows from the matrix and apply the function each time.\n",
    "\n",
    "For the first challenge, the function will solve 2 directions in one call, so we only need to call the function once for all columns, then once for all lines.\n",
    "\n",
    "For the second challenge, the function will solve only 1 direction per call, so we need to call the function twice for all lines and columns, flipping the selected row each time to apply in both directions."
   ]
  },
  {
   "cell_type": "code",
   "execution_count": 46,
   "metadata": {},
   "outputs": [],
   "source": [
    "from adventofcode import AdventOfCode\n",
    "import numpy as np\n",
    "\n",
    "class Day8(AdventOfCode):\n",
    "\n",
    "\n",
    "    def solve(self):\n",
    "        def find_visible_peaks(row):\n",
    "            \"\"\"Count visible trees from left and right of the row\n",
    "            \n",
    "            Keyword arguments:\n",
    "            row: a list of integers that give the trees' heights from left to right\n",
    "            Return: np.array: array of the same shape as the input row, where elements are 1 for a visible tree from either left or right and 0 otherwise\n",
    "            \"\"\"\n",
    "            # This implementation computes the max for each iteration, which is not efficient at all, but shorter to write\n",
    "            return np.array([1] + [1 if (v > max(row[:i]) or v > max(row[i+1:])) else 0 for i, v in enumerate(row[1:-1], 1)] + [1])\n",
    "\n",
    "        trees = np.array([[int(a) for a in j] for j in self.input_data.strip().split(\"\\n\")])\n",
    "\n",
    "        visible_matrix = np.apply_along_axis(find_visible_peaks, axis=0, arr=trees)\n",
    "        visible_matrix += np.apply_along_axis(find_visible_peaks, axis=1, arr=trees)\n",
    "\n",
    "        return np.count_nonzero(visible_matrix > 0)\n"
   ]
  },
  {
   "cell_type": "markdown",
   "metadata": {},
   "source": [
    "Test"
   ]
  },
  {
   "cell_type": "code",
   "execution_count": 47,
   "metadata": {},
   "outputs": [
    {
     "name": "stdout",
     "output_type": "stream",
     "text": [
      "Running AdventOfCode : 21\n"
     ]
    }
   ],
   "source": [
    "test_data = (\"\"\"30373\n",
    "25512\n",
    "65332\n",
    "33549\n",
    "35390\"\"\", 21)\n",
    "\n",
    "challenge = Day8(test_data[0])\n",
    "assert challenge.run() == test_data[1], f\"Found {challenge.run()}\""
   ]
  },
  {
   "cell_type": "code",
   "execution_count": 48,
   "metadata": {},
   "outputs": [
    {
     "name": "stdout",
     "output_type": "stream",
     "text": [
      "Running AdventOfCode Day8: 1849\n"
     ]
    },
    {
     "data": {
      "text/plain": [
       "1849"
      ]
     },
     "execution_count": 48,
     "metadata": {},
     "output_type": "execute_result"
    }
   ],
   "source": [
    "from adventofcode import AdventOfCodeFromFileInput\n",
    "\n",
    "\n",
    "challenge = AdventOfCodeFromFileInput(Day8, \"input_8.txt\")\n",
    "challenge.run()\n"
   ]
  },
  {
   "cell_type": "markdown",
   "metadata": {},
   "source": [
    "Part 2"
   ]
  },
  {
   "cell_type": "code",
   "execution_count": 49,
   "metadata": {},
   "outputs": [],
   "source": [
    "from adventofcode import AdventOfCode\n",
    "import numpy as np\n",
    "\n",
    "class Day8Part2(AdventOfCode):\n",
    "\n",
    "\n",
    "    def solve(self):\n",
    "        def find_visible_peaks(row):\n",
    "            \"\"\"Count visible trees to the right of all trees in the row\n",
    "            \n",
    "            Keyword arguments:\n",
    "            row: a list of integers\n",
    "            Return: np.array: array of the same shape as the input row, where each element is the number of visible trees to the right\n",
    "            \"\"\"\n",
    "            count = np.zeros(row.shape)\n",
    "            for i, ref in enumerate(row[:-1]):\n",
    "                for h in row[i+1:]:\n",
    "                    count[i] += 1\n",
    "                    if h >= ref:\n",
    "                        break\n",
    "            return count\n",
    "\n",
    "        trees = np.array([[int(a) for a in j] for j in self.input_data.strip().split(\"\\n\")])\n",
    "\n",
    "        visible_matrix = np.apply_along_axis(find_visible_peaks, axis=1, arr=trees)\n",
    "        visible_matrix *= np.apply_along_axis(find_visible_peaks, axis=0, arr=trees)\n",
    "        visible_matrix *= np.flip(np.apply_along_axis(find_visible_peaks, axis=0, arr=np.flip(trees)))\n",
    "        visible_matrix *= np.flip(np.apply_along_axis(find_visible_peaks, axis=1, arr=np.flip(trees)))\n",
    "\n",
    "        return np.max(visible_matrix)"
   ]
  },
  {
   "cell_type": "code",
   "execution_count": 50,
   "metadata": {},
   "outputs": [
    {
     "name": "stdout",
     "output_type": "stream",
     "text": [
      "Running AdventOfCode : 8.0\n"
     ]
    }
   ],
   "source": [
    "\n",
    "challenge = Day8Part2(test_data[0])\n",
    "assert challenge.run() == 8"
   ]
  },
  {
   "cell_type": "code",
   "execution_count": 51,
   "metadata": {},
   "outputs": [
    {
     "name": "stdout",
     "output_type": "stream",
     "text": [
      "Running AdventOfCode Day8Part2: 201600.0\n"
     ]
    },
    {
     "data": {
      "text/plain": [
       "201600.0"
      ]
     },
     "execution_count": 51,
     "metadata": {},
     "output_type": "execute_result"
    }
   ],
   "source": [
    "from adventofcode import AdventOfCodeFromFileInput\n",
    "\n",
    "\n",
    "challenge = AdventOfCodeFromFileInput(Day8Part2, \"input_8.txt\")\n",
    "challenge.run()"
   ]
  }
 ],
 "metadata": {
  "kernelspec": {
   "display_name": "Python 3.9.5 64-bit",
   "language": "python",
   "name": "python3"
  },
  "language_info": {
   "codemirror_mode": {
    "name": "ipython",
    "version": 3
   },
   "file_extension": ".py",
   "mimetype": "text/x-python",
   "name": "python",
   "nbconvert_exporter": "python",
   "pygments_lexer": "ipython3",
   "version": "3.9.5"
  },
  "orig_nbformat": 4,
  "vscode": {
   "interpreter": {
    "hash": "36cf16204b8548560b1c020c4e8fb5b57f0e4c58016f52f2d4be01e192833930"
   }
  }
 },
 "nbformat": 4,
 "nbformat_minor": 2
}
