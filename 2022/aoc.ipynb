{
 "cells": [
  {
   "cell_type": "markdown",
   "metadata": {},
   "source": [
    "# Advent of code 2022 day 1, puzzle 1"
   ]
  },
  {
   "cell_type": "markdown",
   "metadata": {},
   "source": [
    "Read file"
   ]
  },
  {
   "cell_type": "code",
   "execution_count": null,
   "metadata": {},
   "outputs": [],
   "source": [
    "with open(\"1/input.txt\", \"r\") as f:\n",
    "    input = f.read()"
   ]
  },
  {
   "cell_type": "markdown",
   "metadata": {},
   "source": [
    "convert file to list of lists"
   ]
  },
  {
   "cell_type": "code",
   "execution_count": null,
   "metadata": {},
   "outputs": [],
   "source": [
    "entries = input.split(\"\\n\\n\")\n",
    "entries = [list(map(int, e.strip().split(\"\\n\"))) for e in entries]\n",
    "len(entries)"
   ]
  },
  {
   "cell_type": "markdown",
   "metadata": {},
   "source": [
    "Sum each element and get the maximum value"
   ]
  },
  {
   "cell_type": "code",
   "execution_count": null,
   "metadata": {},
   "outputs": [],
   "source": [
    "entries_summed = list(map(sum, entries))\n",
    "print(f\"Maximum value is: {max(entries_summed)} @ {entries_summed.index(max(entries_summed))}\")"
   ]
  },
  {
   "cell_type": "markdown",
   "metadata": {},
   "source": [
    "Sort the list and get top three"
   ]
  },
  {
   "cell_type": "code",
   "execution_count": null,
   "metadata": {},
   "outputs": [],
   "source": [
    "entries_summed_sort = sorted(entries_summed, reverse=True)\n",
    "print(f\"Top 3 are: {entries_summed_sort[:3]} sum is {sum(entries_summed_sort[:3])}\")"
   ]
  },
  {
   "cell_type": "markdown",
   "metadata": {},
   "source": [
    " # Day 2"
   ]
  },
  {
   "cell_type": "code",
   "execution_count": null,
   "metadata": {},
   "outputs": [],
   "source": [
    "import re\n",
    "\n",
    "with open(\"input_2.txt\", \"r\") as f:\n",
    "    input_2 = f.read()\n",
    "    opponent_moves = re.findall(\"^.\", input_2, re.MULTILINE)\n",
    "    your_moves = re.findall(\".$\", input_2, re.MULTILINE)"
   ]
  },
  {
   "cell_type": "code",
   "execution_count": null,
   "metadata": {},
   "outputs": [],
   "source": [
    "\n",
    "def get_score(opponent, you):\n",
    "    indiv_scores = {\n",
    "        \"X\": 1, # Rock\n",
    "        \"Y\": 2, # Paper\n",
    "        \"Z\": 3, # Scissors\n",
    "    }\n",
    "\n",
    "    \"\"\"Return 6 if you win, 0 if you lose, 3 in case of draw \n",
    "      first level key: opponent: 1 char string from 'ABC' representing Rock, Paper, Scissors\n",
    "      second level key: you: 1 char string from 'XYZ' representing Rock, Paper, Scissors\n",
    "    \"\"\"\n",
    "    rules = {\n",
    "        \"A\": {\"X\": 3, \"Y\": 6, \"Z\": 0},\n",
    "        \"B\": {\"X\": 0, \"Y\": 3, \"Z\": 6},\n",
    "        \"C\": {\"X\": 6, \"Y\": 0, \"Z\": 3},\n",
    "    }\n",
    "\n",
    "    return rules[opponent][you] + indiv_scores[you]"
   ]
  },
  {
   "cell_type": "markdown",
   "metadata": {},
   "source": [
    "Test function with the given example"
   ]
  },
  {
   "cell_type": "code",
   "execution_count": null,
   "metadata": {},
   "outputs": [],
   "source": [
    "from itertools import starmap\n",
    "assert list(starmap(get_score, zip(\"ABC\", \"YXZ\"))) == [8, 1, 6]"
   ]
  },
  {
   "cell_type": "markdown",
   "metadata": {},
   "source": [
    "Do the work: first part"
   ]
  },
  {
   "cell_type": "code",
   "execution_count": null,
   "metadata": {},
   "outputs": [],
   "source": [
    "sum(starmap(get_score, zip(opponent_moves, your_moves)))"
   ]
  },
  {
   "cell_type": "markdown",
   "metadata": {},
   "source": [
    "Second part"
   ]
  },
  {
   "cell_type": "code",
   "execution_count": null,
   "metadata": {},
   "outputs": [],
   "source": [
    "\n",
    "def get_score_2(opponent, you):\n",
    "    indiv_scores = {\n",
    "        \"X\": 1, # Rock\n",
    "        \"Y\": 2, # Paper\n",
    "        \"Z\": 3, # Scissors\n",
    "    }\n",
    "\n",
    "    \"\"\"Return 6 if you win, 0 if you lose, 3 in case of draw \n",
    "      first level key: opponent: 1 char string from 'ABC' representing Rock, Paper, Scissors\n",
    "      second level key: you: 1 char string from 'XYZ' representing Rock, Paper, Scissors\n",
    "    \"\"\"\n",
    "    rules = {\n",
    "        \"A\": {\"X\": \"Z\", \n",
    "              \"Y\": \"X\",\n",
    "              \"Z\": \"Y\"},\n",
    "        \"B\": {\"X\": \"X\", \n",
    "              \"Y\": \"Y\",\n",
    "              \"Z\": \"Z\"},\n",
    "        \"C\": {\"X\": \"Y\",\n",
    "              \"Y\": \"Z\",\n",
    "              \"Z\": \"X\"},\n",
    "    }\n",
    "\n",
    "    target = {\"X\": 0, \"Y\": 3, \"Z\": 6}\n",
    "\n",
    "    return target[you] + indiv_scores[rules[opponent][you]]"
   ]
  },
  {
   "cell_type": "code",
   "execution_count": null,
   "metadata": {},
   "outputs": [],
   "source": [
    "sum(starmap(get_score_2, zip(opponent_moves, your_moves)))"
   ]
  },
  {
   "cell_type": "markdown",
   "metadata": {},
   "source": [
    "# Day 3"
   ]
  },
  {
   "cell_type": "code",
   "execution_count": null,
   "metadata": {},
   "outputs": [],
   "source": [
    "import re\n",
    "\n",
    "with open(\"input_3.txt\", \"r\") as f:\n",
    "    input_3 = f.read()\n",
    "    "
   ]
  },
  {
   "cell_type": "markdown",
   "metadata": {},
   "source": [
    "Create a list of Rucksacks, each element being a list of both compartiments.\n",
    "Split input in half for each element"
   ]
  },
  {
   "cell_type": "code",
   "execution_count": null,
   "metadata": {},
   "outputs": [],
   "source": [
    "def get_compartment(input):\n",
    "    # Split in half\n",
    "    return (input[:len(input)//2], input[len(input)//2:])\n",
    "\n",
    "import string\n",
    "def get_priority(c):\n",
    "    priorities = {string.ascii_letters[i]: i+1 for i in range(0, len(string.ascii_letters))}\n",
    "    return priorities[c]\n",
    "\n",
    "def find_common_char(a, b, c=None):\n",
    "    \"\"\"Find common characters in the given two input strings\"\"\"\n",
    "    common_chars = [x for x in a if (x in b and (c is None or x in c))]\n",
    "    # assert len(common_chars) == 1, f\"Found several matches {common_chars} in inputs {a} and {b}\"\n",
    "    return common_chars[0]"
   ]
  },
  {
   "cell_type": "markdown",
   "metadata": {},
   "source": [
    "Step 1: sum all common items"
   ]
  },
  {
   "cell_type": "code",
   "execution_count": null,
   "metadata": {},
   "outputs": [],
   "source": [
    "compartments = map(get_compartment, input_3.split())\n",
    "summed_priority_common_item = sum(map(get_priority, starmap(find_common_char, compartments)))\n",
    "summed_priority_common_item"
   ]
  },
  {
   "cell_type": "markdown",
   "metadata": {},
   "source": [
    "Step 2: sum the priority of badges from 3 common elves"
   ]
  },
  {
   "cell_type": "code",
   "execution_count": null,
   "metadata": {},
   "outputs": [],
   "source": [
    "groups = input_3.split()\n",
    "groups = [groups[n:n+3] for n in range(0, len(groups), 3)]\n",
    "summed_priority_common_item = sum(map(get_priority, starmap(find_common_char, groups)))\n",
    "summed_priority_common_item"
   ]
  },
   ]
  }
 ],
 "metadata": {
  "kernelspec": {
   "display_name": "Python 3.9.5 64-bit",
   "language": "python",
   "name": "python3"
  },
  "language_info": {
   "codemirror_mode": {
    "name": "ipython",
    "version": 3
   },
   "file_extension": ".py",
   "mimetype": "text/x-python",
   "name": "python",
   "nbconvert_exporter": "python",
   "pygments_lexer": "ipython3",
   "version": "3.9.5"
  },
  "orig_nbformat": 4,
  "vscode": {
   "interpreter": {
    "hash": "36cf16204b8548560b1c020c4e8fb5b57f0e4c58016f52f2d4be01e192833930"
   }
  }
 },
 "nbformat": 4,
 "nbformat_minor": 2
}
