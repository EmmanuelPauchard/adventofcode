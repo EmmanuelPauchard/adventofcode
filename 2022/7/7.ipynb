{
 "cells": [
  {
   "cell_type": "markdown",
   "metadata": {},
   "source": [
    "# Day 7"
   ]
  },
  {
   "cell_type": "markdown",
   "metadata": {},
   "source": [
    "The solution will be based on the visitor design pattern, using the \"singledispatch\" functionality provided by python.\n",
    "References:\n",
    "* https://stackoverflow.com/questions/2525677/how-to-write-the-visitor-pattern-for-abstract-syntax-tree-in-python\n",
    "* https://docs.python.org/3/library/functools.html#functools.singledispatch\n",
    "* https://en.wikipedia.org/wiki/Visitor_pattern\n",
    "\n",
    "The basic idea of the visitor pattern is to separate the algorithm (the function; for instance: printing the current file or directory to stdout, or counting the size) from the data itself.\n",
    "\n",
    "Which means that we will need 2 things:\n",
    "- Objects that represent the data (files and directories). We won't implement any function here (print or size)\n",
    "- Visitors that handle each data type (ie: file and directory) and perform the appropriate action. For this, we use `singledispatchmethod` and type hints to perform dynamic polymorphism.\n",
    "\n",
    "> FIXME: for the directory size, the function is implemented directly in the Directory class. I did not find a way to accumulate the sizes of all subdirectories directly in the visitor.\n",
    "\n",
    "Benefits of using the pattern:\n",
    "* No modification of the data class needed if we want to change the function (for instance, to change the way a directory is printed)\n",
    "\n",
    "Other solution:\n",
    "* Implement a \"print\" method directly in the File and Directory classes, fairly easy in this specific case."
   ]
  },
  {
   "cell_type": "code",
   "execution_count": 1,
   "metadata": {},
   "outputs": [],
   "source": [
    "# First, a small hack so that we can the note book can import the common functions\n",
    "import sys\n",
    "sys.path.append(\"..\")"
   ]
  },
  {
   "cell_type": "code",
   "execution_count": 2,
   "metadata": {},
   "outputs": [],
   "source": [
    "# The following classes define the file system objects: nodes, files, directories\n",
    "from dataclasses import dataclass, field\n",
    "\n",
    "@dataclass\n",
    "class Node:\n",
    "    _name: str\n",
    "    _size: int = 0      \n",
    "    _parent = None\n",
    "    _children: list = field(default_factory=list)\n",
    "\n",
    "    def set_parent(self, parent):\n",
    "        self._parent = parent\n",
    "\n",
    "    @property\n",
    "    def size(self):\n",
    "        return self._size\n",
    "    \n",
    "    @property\n",
    "    def pwd(self):\n",
    "        pwd = self.name\n",
    "        a = self.parent\n",
    "        while a != None:\n",
    "            if a.name != \"/\":\n",
    "                pwd = a.name + \"/\" + pwd\n",
    "            else:\n",
    "                pwd = a.name + pwd\n",
    "            a = a.parent\n",
    "        return pwd\n",
    "        \n",
    "    @property\n",
    "    def depth(self):\n",
    "        a = self.parent\n",
    "        level = 0\n",
    "        while a != None:\n",
    "            a = a.parent\n",
    "            level += 1\n",
    "        return level\n",
    "\n",
    "    @property\n",
    "    def parent(self):\n",
    "        return self._parent\n",
    "\n",
    "    @property\n",
    "    def name(self):\n",
    "        return self._name\n",
    "\n",
    "    @property\n",
    "    def children(self):\n",
    "        return self._children\n",
    "\n",
    "    def accept(self, visitor, traverse=False):\n",
    "        visitor.visit(self)\n",
    "        for c in self.children:\n",
    "            if traverse:\n",
    "                # Explore tree recursively\n",
    "                c.accept(visitor, traverse)\n",
    "            else:\n",
    "                # Print children, nothing more\n",
    "                visitor.visit(c)\n",
    "\n",
    "\n",
    "@dataclass\n",
    "class Directory(Node):\n",
    "    def add(self, node):\n",
    "        node.set_parent(self)\n",
    "        self.children.append(node)\n",
    "\n",
    "    @property\n",
    "    def size(self):\n",
    "        return sum([child.size for child in self.children])\n",
    "\n",
    "\n",
    "@dataclass\n",
    "class File(Node):         \n",
    "    def __str__(self):\n",
    "        return f\"{self.size} {self.name}\"\n"
   ]
  },
  {
   "cell_type": "code",
   "execution_count": 3,
   "metadata": {},
   "outputs": [],
   "source": [
    "# This class implement a File System visitor that is able to print a directory and a file to stdout\n",
    "from functools import singledispatchmethod\n",
    "\n",
    "@dataclass\n",
    "class Printer:\n",
    "\n",
    "    @singledispatchmethod\n",
    "    def visit(self):\n",
    "        raise NotImplementedError(\"Element cannot be printed\")\n",
    "\n",
    "    def print(self, data, level):\n",
    "        # print(\"{val:>{depth}}\".format(val=\"|__\", depth=level*4), data)\n",
    "        print(\"|____\"*level, data)\n",
    "\n",
    "    @visit.register\n",
    "    def _(self, arg: Directory):\n",
    "        self.print(f\"DIR {arg.name} (total size: {arg.size})\", arg.depth)\n",
    "\n",
    "    @visit.register\n",
    "    def _(self, arg: File):\n",
    "        self.print(f\"{arg.size} {arg.name}\", arg.depth)\n"
   ]
  },
  {
   "cell_type": "code",
   "execution_count": 4,
   "metadata": {},
   "outputs": [],
   "source": [
    "# This class implement a File System visitor that is creates a dictionary of all directories and their size (subdirectories included)\n",
    "from functools import singledispatchmethod\n",
    "\n",
    "@dataclass\n",
    "class DiskUsage:\n",
    "    _dirs: dict = field(default_factory=dict)\n",
    "\n",
    "    @property\n",
    "    def dirs(self):\n",
    "        return self._dirs\n",
    "\n",
    "    @singledispatchmethod\n",
    "    def visit(self):\n",
    "        raise NotImplementedError(\"Element cannot be printed\")\n",
    "\n",
    "    @visit.register\n",
    "    def _(self, arg: Directory):\n",
    "        # Use full path to make sure directories with same name don't collide\n",
    "        self.dirs[arg.pwd] = arg.size\n",
    "\n",
    "    @visit.register\n",
    "    def _(self, arg: File):\n",
    "        # Size of children is already implemented in the Directory class.\n",
    "        pass"
   ]
  },
  {
   "cell_type": "code",
   "execution_count": 5,
   "metadata": {},
   "outputs": [],
   "source": [
    "# This class defines a file system explorer: stores the hierarchy of nodes, implement basic commands and a bind the printer to the nodes\n",
    "\n",
    "class ElfFileSystemExplorer:\n",
    "\n",
    "    def __init__(self) -> None:       \n",
    "        self.root = Directory(\"/\")\n",
    "        self.cursor = self.root\n",
    "\n",
    "    def cd(self, arg):\n",
    "        \"\"\"Update cursor. Return False if directory is not found\"\"\"\n",
    "        if arg == \"/\":\n",
    "            self.cursor = self.root\n",
    "            return True\n",
    "\n",
    "        if arg == \"..\" and self.cursor.parent is not None:\n",
    "            self.cursor = self.cursor.parent\n",
    "            return True\n",
    "\n",
    "        for dir in filter(lambda x: isinstance(x, Directory), self.cursor.children):\n",
    "            if dir.name == arg:\n",
    "                self.cursor = dir\n",
    "                return True\n",
    "\n",
    "        return False\n",
    "        \n",
    "    def ls(self):\n",
    "        \"\"\"List files and directories at cursor\"\"\"\n",
    "        print(f\"${self.cursor.name}\")\n",
    "        self.cursor.accept(Printer(), False)\n",
    "\n",
    "    def mkdir(self, name):\n",
    "        \"\"\"Create a directory in the current position\"\"\"\n",
    "        if name not in [a.name for a in filter(lambda x: isinstance(x, Directory), self.cursor.children)]:\n",
    "            self.cursor.add(Directory(name))\n",
    "\n",
    "    def touch(self, name, length):\n",
    "        \"\"\"Create a file of given name and length\"\"\"\n",
    "        self.cursor.add(File(name, length))\n",
    "\n",
    "    def tree(self):\n",
    "        \"\"\"Show the full file hierarchy starting from cursor\"\"\"\n",
    "        print(f\"${self.cursor.name}\")\n",
    "        self.cursor.accept(Printer(), traverse=True)\n",
    "\n",
    "    def du(self):\n",
    "        \"\"\"Show the disk usage: size of all directories. Warning: this starts from current cursor\"\"\"\n",
    "        _du = DiskUsage()\n",
    "        self.cursor.accept(_du, traverse=True)\n",
    "        return _du.dirs\n",
    "\n"
   ]
  },
  {
   "cell_type": "code",
   "execution_count": 6,
   "metadata": {},
   "outputs": [
    {
     "name": "stdout",
     "output_type": "stream",
     "text": [
      "Empty FS\n",
      "$/\n",
      " DIR / (total size: 0)\n",
      "3 dir?\n",
      "$/\n",
      " DIR / (total size: 1)\n",
      "|____ DIR Toto (total size: 0)\n",
      "|____ DIR Toto2 (total size: 0)\n",
      "|____ DIR Toto3 (total size: 0)\n",
      "|____ 1 fileroot\n",
      "Toto?\n",
      "$Toto\n",
      "|____ DIR Toto (total size: 201)\n",
      "|____|____ 100 file1\n",
      "|____|____ 101 file2\n",
      "/?\n",
      "$/\n",
      " DIR / (total size: 202)\n",
      "|____ DIR Toto (total size: 201)\n",
      "|____ DIR Toto2 (total size: 0)\n",
      "|____ DIR Toto3 (total size: 0)\n",
      "|____ 1 fileroot\n",
      "Toto2?\n",
      "$Toto2\n",
      "|____ DIR Toto2 (total size: 0)\n",
      "/?\n",
      "$/\n",
      " DIR / (total size: 202)\n",
      "|____ DIR Toto (total size: 201)\n",
      "|____ DIR Toto2 (total size: 0)\n",
      "|____ DIR Toto3 (total size: 0)\n",
      "|____ 1 fileroot\n",
      "Tree?\n",
      "$/\n",
      " DIR / (total size: 202)\n",
      "|____ DIR Toto (total size: 201)\n",
      "|____|____ 100 file1\n",
      "|____|____ 101 file2\n",
      "|____ DIR Toto2 (total size: 0)\n",
      "|____ DIR Toto3 (total size: 0)\n",
      "|____ 1 fileroot\n",
      "DU?\n",
      "{'/': 202, '/Toto': 201, '/Toto2': 0, '/Toto3': 0}\n"
     ]
    }
   ],
   "source": [
    "# Test the file system\n",
    "\n",
    "a = ElfFileSystemExplorer()\n",
    "print(\"Empty FS\")\n",
    "a.ls()\n",
    "a.mkdir(\"Toto\")\n",
    "a.mkdir(\"Toto2\")\n",
    "a.mkdir(\"Toto3\")\n",
    "a.touch(\"fileroot\", 1)\n",
    "print(\"3 dir?\")\n",
    "a.ls()\n",
    "a.cd(\"Toto\")\n",
    "a.touch(\"file1\", 100)\n",
    "a.touch(\"file2\", 101)\n",
    "print(\"Toto?\")\n",
    "a.ls()\n",
    "a.cd(\"..\")\n",
    "print(\"/?\")\n",
    "a.ls()\n",
    "a.cd(\"Toto2\")\n",
    "print(\"Toto2?\")\n",
    "a.ls()\n",
    "a.cd(\"/\")\n",
    "print(\"/?\")\n",
    "a.ls()\n",
    "print(\"Tree?\")\n",
    "a.tree()\n",
    "print(\"DU?\")\n",
    "print(a.du())"
   ]
  },
  {
   "cell_type": "markdown",
   "metadata": {},
   "source": [
    "Parse input commands\n",
    "\n",
    "We will first define all available commands and use a factory method to convert the input line to the appropriate command.\n",
    "\n",
    "Python allows us to iterate over direct children of a class, so we will use this to iterate over all known commands and return the first match. This implies that match must be selective enough. "
   ]
  },
  {
   "cell_type": "code",
   "execution_count": 7,
   "metadata": {},
   "outputs": [
    {
     "name": "stdout",
     "output_type": "stream",
     "text": [
      "\n"
     ]
    }
   ],
   "source": [
    "import re\n",
    "from dataclasses import dataclass\n",
    "\n",
    "@dataclass\n",
    "class Command:\n",
    "    \"\"\"A parsed command\n",
    "    The command is defined by its type: it must be a subclass of Command.\n",
    "    Then, the arguments is a set of strings in the \"arg\" attributes.\n",
    "    \"\"\"\n",
    "    \n",
    "    command: str = \"\"\n",
    "    arg: str = \"\"\n",
    "\n",
    "    def __eq__(self, __o: object) -> bool:\n",
    "        return __o.arg == self.arg\n",
    "\n",
    "    @staticmethod\n",
    "    def get_command(line):\n",
    "        for command in Command.__subclasses__():\n",
    "            args = re.search(command.command, line)\n",
    "            if args:\n",
    "                return command(arg=args.groups())\n",
    "        raise NotImplementedError(f\"Unknown Command: {line}\")\n",
    "\n",
    "@dataclass\n",
    "class Cd(Command):\n",
    "    command: str = r'\\$\\s+cd\\s+([\\w/\\.]+)'\n",
    "\n",
    "@dataclass\n",
    "class Ls(Command):\n",
    "    command: str = r'\\$\\s+ls'\n",
    "    arg: str = ()\n",
    "\n",
    "@dataclass\n",
    "class FileList(Command):\n",
    "    command: str = r'(\\d+)\\s+([\\w.]+)'\n",
    "\n",
    "@dataclass\n",
    "class DirList(Command):\n",
    "    command: str = r'dir\\s+(\\w+)'\n",
    "\n",
    "print()\n"
   ]
  },
  {
   "cell_type": "code",
   "execution_count": 8,
   "metadata": {},
   "outputs": [],
   "source": [
    "# Test above class\n",
    "\n",
    "test_data = (\n",
    "    (\"$ ls\", Ls()),\n",
    "    (\"dir a\", DirList(arg=(\"a\",))),\n",
    "    (\"14848514 b.txt\", FileList(arg=(\"14848514\", \"b.txt\"))),\n",
    "    (\"8504156 c\", FileList(arg=(\"8504156\", \"c\"))),\n",
    "    (\"dir d\", DirList(arg=(\"d\",))),\n",
    "    (\"$ cd a\", Cd(arg=(\"a\",))),\n",
    ")\n",
    "\n",
    "for input, check in test_data:\n",
    "    c = Command.get_command(input)\n",
    "    assert c == check, f\"Got {c} instead of {check}\""
   ]
  },
  {
   "cell_type": "code",
   "execution_count": 9,
   "metadata": {},
   "outputs": [],
   "source": [
    "from functools import singledispatchmethod\n",
    "\n",
    "\n",
    "class ExplorerCommandParser:\n",
    "    \"\"\"Parse and execute Explorer commands\n",
    "    We will use \"singledispatchmethod\" decorator so that Python calls the \n",
    "    correct command handlers solely based on the command type\n",
    "    \"\"\"\n",
    "    \n",
    "    def parse(self, input_str):\n",
    "        for line in input_str.split(\"\\n\"):\n",
    "            if len(line) == 0:\n",
    "                continue\n",
    "            command = Command.get_command(line)\n",
    "            self.handle(command)\n",
    "            \n",
    "    @singledispatchmethod\n",
    "    def handle(self, target):\n",
    "        raise NotImplementedError(\"Unknown object\")\n",
    "\n",
    "    @handle.register\n",
    "    def _(self, c: Cd):\n",
    "        target = c.arg[0]\n",
    "        self.fs.cd(target)\n",
    "\n",
    "    @handle.register\n",
    "    def _(self, c: Ls):\n",
    "        # Print only current directory, no argument\n",
    "        pass\n",
    "\n",
    "    @handle.register\n",
    "    def _(self, c: DirList):\n",
    "        name,  = c.arg\n",
    "        self.fs.mkdir(name)\n",
    "\n",
    "    @handle.register\n",
    "    def _(self, c: FileList):\n",
    "        size, name = c.arg\n",
    "        self.fs.touch(name, int(size, 10))\n",
    "\n",
    "    def __init__(self, input_data: str) -> None:\n",
    "        self.fs = ElfFileSystemExplorer()\n",
    "        self.parse(input_data)"
   ]
  },
  {
   "cell_type": "markdown",
   "metadata": {},
   "source": [
    "Implement the test class with the challenge logic"
   ]
  },
  {
   "cell_type": "code",
   "execution_count": 10,
   "metadata": {},
   "outputs": [],
   "source": [
    "from adventofcode import AdventOfCode\n",
    "\n",
    "class Day7(AdventOfCode):\n",
    "    def solve(self):\n",
    "        a = ExplorerCommandParser(self.input_data)\n",
    "        a.fs.cd(\"/\")\n",
    "        s = sum(filter(lambda x: x <= 100000, a.fs.du().values()))\n",
    "        return s"
   ]
  },
  {
   "cell_type": "markdown",
   "metadata": {},
   "source": [
    "Test everything with the given example"
   ]
  },
  {
   "cell_type": "code",
   "execution_count": 11,
   "metadata": {},
   "outputs": [],
   "source": [
    "test_data = (\"\"\"$ cd /\n",
    "$ ls\n",
    "dir a\n",
    "14848514 b.txt\n",
    "8504156 c.dat\n",
    "dir d\n",
    "$ cd a\n",
    "$ ls\n",
    "dir e\n",
    "29116 f\n",
    "2557 g\n",
    "62596 h.lst\n",
    "$ cd e\n",
    "$ ls\n",
    "584 i\n",
    "$ cd ..\n",
    "$ cd ..\n",
    "$ cd d\n",
    "$ ls\n",
    "4060174 j\n",
    "8033020 d.log\n",
    "5626152 d.ext\n",
    "7214296 k\n",
    "\"\"\", {\"/\": 48381165, \"/a/e\": 584, \"/a\": 94853, \"/d\": 24933642})\n"
   ]
  },
  {
   "cell_type": "code",
   "execution_count": 12,
   "metadata": {},
   "outputs": [
    {
     "name": "stdout",
     "output_type": "stream",
     "text": [
      "$/\n",
      " DIR / (total size: 48381165)\n",
      "|____ DIR a (total size: 94853)\n",
      "|____|____ DIR e (total size: 584)\n",
      "|____|____|____ 584 i\n",
      "|____|____ 29116 f\n",
      "|____|____ 2557 g\n",
      "|____|____ 62596 h.lst\n",
      "|____ 14848514 b.txt\n",
      "|____ 8504156 c.dat\n",
      "|____ DIR d (total size: 24933642)\n",
      "|____|____ 4060174 j\n",
      "|____|____ 8033020 d.log\n",
      "|____|____ 5626152 d.ext\n",
      "|____|____ 7214296 k\n",
      "Running AdventOfCode : 95437\n"
     ]
    }
   ],
   "source": [
    "from adventofcode import AdventOfCode\n",
    "\n",
    "a = ExplorerCommandParser(test_data[0])\n",
    "a.fs.cd(\"/\")\n",
    "a.fs.tree()\n",
    "disk_usage = a.fs.du()\n",
    "assert disk_usage == test_data[1]\n",
    "\n",
    "challenge = Day7(test_data[0])\n",
    "res = challenge.run()\n",
    "assert res == 95437"
   ]
  },
  {
   "cell_type": "markdown",
   "metadata": {},
   "source": [
    "Finally, let's get started with the challenge :-)"
   ]
  },
  {
   "cell_type": "code",
   "execution_count": 13,
   "metadata": {},
   "outputs": [
    {
     "name": "stdout",
     "output_type": "stream",
     "text": [
      "Running AdventOfCode Day7: 1367870\n"
     ]
    },
    {
     "data": {
      "text/plain": [
       "1367870"
      ]
     },
     "execution_count": 13,
     "metadata": {},
     "output_type": "execute_result"
    }
   ],
   "source": [
    "from adventofcode import AdventOfCodeFromFileInput\n",
    "challenge = AdventOfCodeFromFileInput(Day7, \"input.txt\")\n",
    "challenge.run()"
   ]
  },
  {
   "cell_type": "markdown",
   "metadata": {},
   "source": [
    "Part 2"
   ]
  },
  {
   "cell_type": "code",
   "execution_count": 14,
   "metadata": {},
   "outputs": [],
   "source": [
    "class Day7Part2(AdventOfCode):\n",
    "    def solve(self):\n",
    "        a = ExplorerCommandParser(self.input_data)\n",
    "        a.fs.cd(\"/\")\n",
    "        disk_usage = a.fs.du()\n",
    "        target_space = 30000000 - (70000000 - disk_usage[\"/\"])  # Note: may become <0 if we already have enough space\n",
    "        s = sorted([x for x in disk_usage.values() if x >= target_space])\n",
    "        # the following line is not useful for the challenge but lets us visualize the candidate directories for deletion\n",
    "        sorted_candidates = [(list(disk_usage)[list(disk_usage.values()).index(v)], v) for v in s]\n",
    "        return sorted_candidates[0][1]"
   ]
  },
  {
   "cell_type": "markdown",
   "metadata": {},
   "source": [
    "Test with the example"
   ]
  },
  {
   "cell_type": "code",
   "execution_count": 15,
   "metadata": {},
   "outputs": [
    {
     "name": "stdout",
     "output_type": "stream",
     "text": [
      "Running AdventOfCode : 24933642\n"
     ]
    }
   ],
   "source": [
    "from adventofcode import AdventOfCode\n",
    "\n",
    "challenge = Day7Part2(test_data[0])\n",
    "res = challenge.run()\n",
    "assert res == 24933642"
   ]
  },
  {
   "cell_type": "markdown",
   "metadata": {},
   "source": [
    "Solve the challenge"
   ]
  },
  {
   "cell_type": "code",
   "execution_count": 16,
   "metadata": {},
   "outputs": [
    {
     "name": "stdout",
     "output_type": "stream",
     "text": [
      "Running AdventOfCode Day7Part2: 549173\n"
     ]
    },
    {
     "data": {
      "text/plain": [
       "549173"
      ]
     },
     "execution_count": 16,
     "metadata": {},
     "output_type": "execute_result"
    }
   ],
   "source": [
    "from adventofcode import AdventOfCodeFromFileInput\n",
    "challenge = AdventOfCodeFromFileInput(Day7Part2, \"input.txt\")\n",
    "challenge.run()"
   ]
  }
 ],
 "metadata": {
  "kernelspec": {
   "display_name": "Python 3.9.13 64-bit (microsoft store)",
   "language": "python",
   "name": "python3"
  },
  "language_info": {
   "codemirror_mode": {
    "name": "ipython",
    "version": 3
   },
   "file_extension": ".py",
   "mimetype": "text/x-python",
   "name": "python",
   "nbconvert_exporter": "python",
   "pygments_lexer": "ipython3",
   "version": "3.9.13"
  },
  "orig_nbformat": 4,
  "vscode": {
   "interpreter": {
    "hash": "2b75f2f130f9eb1b131c9f00ea3c2842aaf5f8ceec9a3fb1a2d4529670805511"
   }
  }
 },
 "nbformat": 4,
 "nbformat_minor": 2
}
