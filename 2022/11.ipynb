{
 "cells": [
  {
   "cell_type": "markdown",
   "metadata": {},
   "source": [
    "# Day 11"
   ]
  },
  {
   "cell_type": "code",
   "execution_count": 72,
   "metadata": {},
   "outputs": [],
   "source": [
    "test_data = \"\"\"Monkey 0:\n",
    "  Starting items: 79, 98\n",
    "  Operation: new = old * 19\n",
    "  Test: divisible by 23\n",
    "    If true: throw to monkey 2\n",
    "    If false: throw to monkey 3\n",
    "\n",
    "Monkey 1:\n",
    "  Starting items: 54, 65, 75, 74\n",
    "  Operation: new = old + 6\n",
    "  Test: divisible by 19\n",
    "    If true: throw to monkey 2\n",
    "    If false: throw to monkey 0\n",
    "\n",
    "Monkey 2:\n",
    "  Starting items: 79, 60, 97\n",
    "  Operation: new = old * old\n",
    "  Test: divisible by 13\n",
    "    If true: throw to monkey 1\n",
    "    If false: throw to monkey 3\n",
    "\n",
    "Monkey 3:\n",
    "  Starting items: 74\n",
    "  Operation: new = old + 3\n",
    "  Test: divisible by 17\n",
    "    If true: throw to monkey 0\n",
    "    If false: throw to monkey 1\n",
    "\"\"\"\n"
   ]
  },
  {
   "cell_type": "code",
   "execution_count": 73,
   "metadata": {},
   "outputs": [],
   "source": [
    "from adventofcode import AdventOfCode\n",
    "import re\n",
    "import pprint\n",
    "from copy import deepcopy\n",
    "import math\n",
    "from tqdm import tqdm\n",
    "\n",
    "class Day11(AdventOfCode):\n",
    "    worry = False\n",
    "    rounds = 20\n",
    "\n",
    "    def get_input_values(self):\n",
    "        lines = self.input_data.strip().split(\"\\n\")\n",
    "        print(len(lines))\n",
    "        monkeys={}\n",
    "        for i in range(len(lines)):\n",
    "            if \"Monkey\" in lines[i]:\n",
    "                idx = len(monkeys)\n",
    "                monkeys[idx] = {\n",
    "                    \"items\": [int(x) for x in re.findall(r'(\\d+)', lines[i+1])],\n",
    "                    \"operation\": re.search(r'.*=\\s+(.*)', lines[i+2]).groups()[-1],\n",
    "                    \"divisor\": int(re.findall(r'(\\d+)', lines[i+3])[-1]),\n",
    "                    \"target_true\": int(re.findall(r'(\\d+)', lines[i+4])[-1]),\n",
    "                    \"target_false\": int(re.findall(r'(\\d+)', lines[i+5])[-1]),\n",
    "                    \"activity\": 0\n",
    "                }\n",
    "        return monkeys\n",
    "            \n",
    "\n",
    "    def solve(self):\n",
    "        monkeys = self.get_input_values()\n",
    "        # pprint.pprint(monkeys)\n",
    "\n",
    "        for round in tqdm(range(self.rounds)):\n",
    "            # print(\"Round \", round)\n",
    "            for i in range(len(monkeys.keys())):\n",
    "                # print(f\"\\tMonkey {i}:\")\n",
    "                m = monkeys[i]\n",
    "                items_init = deepcopy(m[\"items\"])\n",
    "                new_items = []\n",
    "                for j in range(len(items_init)):\n",
    "                    m[\"activity\"] += 1\n",
    "                    old = items_init[j]\n",
    "                    # print(f\"\\t\\tMonkey inspects an item with a worry level of {old}.\")\n",
    "                    new = eval(m[\"operation\"])\n",
    "                    if not self.worry:\n",
    "                        # print(f\"\\t\\t\\tWorry level is {m['operation']} to {new}.\")\n",
    "                        new //= 3\n",
    "                    # print(f\"\\t\\t\\tMonkey gets bored with item. Worry level is divided by 3 to {new}.\")\n",
    "                    if (new % m[\"divisor\"] == 0):\n",
    "                        # print(f\"\\t\\t\\tCurrent worry level IS divisible by {m['divisor']}.\")\n",
    "                        monkeys[m[\"target_true\"]][\"items\"] += [new]\n",
    "                        # print(f\"\\t\\t\\tItem with worry level {new} is thrown to monkey {m['target_true']}..\")\n",
    "                    else:\n",
    "                        # print(f\"\\t\\t\\tCurrent worry level is not divisible by {m['divisor']}.\")\n",
    "                        monkeys[m[\"target_false\"]][\"items\"] += [new]\n",
    "                        # print(f\"\\t\\t\\tItem with worry level {new} is thrown to monkey {m['target_false']}..\")\n",
    "                    m[\"items\"].pop(m[\"items\"].index(old))\n",
    "            # pprint.pprint(monkeys)\n",
    "\n",
    "        # for m in monkeys:\n",
    "        #     print(f\"Monkey {m} inspected items {monkeys[m]['activity']} times\")\n",
    "        two_most_actives = sorted([monkeys[m]['activity'] for m in monkeys], reverse=True)[:2]\n",
    "        # print(f\"Two most actives: {two_most_actives}\")\n",
    "        return math.prod(two_most_actives)\n",
    "\n",
    "\n",
    "\n"
   ]
  },
  {
   "cell_type": "code",
   "execution_count": 74,
   "metadata": {},
   "outputs": [
    {
     "name": "stdout",
     "output_type": "stream",
     "text": [
      "27\n"
     ]
    },
    {
     "name": "stderr",
     "output_type": "stream",
     "text": [
      "100%|██████████| 20/20 [00:00<00:00, 5012.01it/s]"
     ]
    },
    {
     "name": "stdout",
     "output_type": "stream",
     "text": [
      "Running AdventOfCode : 10605\n"
     ]
    },
    {
     "name": "stderr",
     "output_type": "stream",
     "text": [
      "\n"
     ]
    }
   ],
   "source": [
    "assert Day11(test_data).run() == 10605"
   ]
  },
  {
   "attachments": {},
   "cell_type": "markdown",
   "metadata": {},
   "source": [
    "Part 1"
   ]
  },
  {
   "cell_type": "code",
   "execution_count": 75,
   "metadata": {},
   "outputs": [
    {
     "name": "stdout",
     "output_type": "stream",
     "text": [
      "55\n"
     ]
    },
    {
     "name": "stderr",
     "output_type": "stream",
     "text": [
      "100%|██████████| 20/20 [00:00<00:00, 1176.54it/s]"
     ]
    },
    {
     "name": "stdout",
     "output_type": "stream",
     "text": [
      "Running AdventOfCode Day11: 50830\n"
     ]
    },
    {
     "name": "stderr",
     "output_type": "stream",
     "text": [
      "\n"
     ]
    },
    {
     "data": {
      "text/plain": [
       "50830"
      ]
     },
     "execution_count": 75,
     "metadata": {},
     "output_type": "execute_result"
    }
   ],
   "source": [
    "from adventofcode import AdventOfCodeFromFileInput\n",
    "\n",
    "\n",
    "challenge = AdventOfCodeFromFileInput(Day11, \"input_11.txt\")\n",
    "challenge.run()"
   ]
  },
  {
   "attachments": {},
   "cell_type": "markdown",
   "metadata": {},
   "source": [
    "Part 2"
   ]
  },
  {
   "cell_type": "code",
   "execution_count": 76,
   "metadata": {},
   "outputs": [],
   "source": [
    "class Day11Part2(Day11):\n",
    "    worry = True\n",
    "    rounds = 10000"
   ]
  },
  {
   "cell_type": "code",
   "execution_count": 77,
   "metadata": {},
   "outputs": [
    {
     "name": "stdout",
     "output_type": "stream",
     "text": [
      "27\n"
     ]
    },
    {
     "name": "stderr",
     "output_type": "stream",
     "text": [
      "  8%|▊         | 833/10000 [01:08<44:10,  3.46it/s]  "
     ]
    }
   ],
   "source": [
    "Day11Part2(test_data).run()\n",
    "# 2713310158"
   ]
  }
 ],
 "metadata": {
  "kernelspec": {
   "display_name": "Python 3.9.13 64-bit (microsoft store)",
   "language": "python",
   "name": "python3"
  },
  "language_info": {
   "codemirror_mode": {
    "name": "ipython",
    "version": 3
   },
   "file_extension": ".py",
   "mimetype": "text/x-python",
   "name": "python",
   "nbconvert_exporter": "python",
   "pygments_lexer": "ipython3",
   "version": "3.9.13"
  },
  "orig_nbformat": 4,
  "vscode": {
   "interpreter": {
    "hash": "2b75f2f130f9eb1b131c9f00ea3c2842aaf5f8ceec9a3fb1a2d4529670805511"
   }
  }
 },
 "nbformat": 4,
 "nbformat_minor": 2
}
