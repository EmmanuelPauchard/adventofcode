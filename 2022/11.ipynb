{
 "cells": [
  {
   "cell_type": "markdown",
   "metadata": {},
   "source": [
    "# Day 11"
   ]
  },
  {
   "cell_type": "code",
   "execution_count": 14,
   "metadata": {},
   "outputs": [],
   "source": [
    "test_data = \"\"\"Monkey 0:\n",
    "  Starting items: 79, 98\n",
    "  Operation: new = old * 19\n",
    "  Test: divisible by 23\n",
    "    If true: throw to monkey 2\n",
    "    If false: throw to monkey 3\n",
    "\n",
    "Monkey 1:\n",
    "  Starting items: 54, 65, 75, 74\n",
    "  Operation: new = old + 6\n",
    "  Test: divisible by 19\n",
    "    If true: throw to monkey 2\n",
    "    If false: throw to monkey 0\n",
    "\n",
    "Monkey 2:\n",
    "  Starting items: 79, 60, 97\n",
    "  Operation: new = old * old\n",
    "  Test: divisible by 13\n",
    "    If true: throw to monkey 1\n",
    "    If false: throw to monkey 3\n",
    "\n",
    "Monkey 3:\n",
    "  Starting items: 74\n",
    "  Operation: new = old + 3\n",
    "  Test: divisible by 17\n",
    "    If true: throw to monkey 0\n",
    "    If false: throw to monkey 1\n",
    "\"\"\"\n"
   ]
  },
  {
   "cell_type": "code",
   "execution_count": 15,
   "metadata": {},
   "outputs": [],
   "source": [
    "from adventofcode import AdventOfCode\n",
    "import re\n",
    "import pprint\n",
    "from copy import deepcopy\n",
    "import math\n",
    "from tqdm import tqdm\n",
    "from dataclasses import dataclass\n",
    "\n",
    "@dataclass\n",
    "class Item:\n",
    "    init_worry_level: int\n",
    "    worry_level: int\n",
    "    monkey: int\n",
    "    monkeys: list\n",
    "\n",
    "class Day11(AdventOfCode):\n",
    "    worry = False\n",
    "    rounds = 20\n",
    "    operations = None\n",
    "    worry_divider_part_2 = 1\n",
    "\n",
    "    def set_operations(self, operations):\n",
    "        self.operations = operations\n",
    "\n",
    "    def get_input_values(self):\n",
    "        lines = self.input_data.strip().split(\"\\n\")\n",
    "        print(len(lines))\n",
    "        monkeys={}\n",
    "        for i in range(len(lines)):\n",
    "            if \"Monkey\" in lines[i]:\n",
    "                idx = len(monkeys)\n",
    "                monkeys[idx] = {\n",
    "                    \"items\": [int(x) for x in re.findall(r'(\\d+)', lines[i+1])],\n",
    "                    \"operation\": None,  # re.search(r'.*=\\s+(.*)', lines[i+2]).groups()[-1],\n",
    "                    \"divisor\": int(re.findall(r'(\\d+)', lines[i+3])[-1]),\n",
    "                    \"target_true\": int(re.findall(r'(\\d+)', lines[i+4])[-1]),\n",
    "                    \"target_false\": int(re.findall(r'(\\d+)', lines[i+5])[-1]),\n",
    "                    \"activity\": 0\n",
    "                }\n",
    "\n",
    "        return monkeys\n",
    "            \n",
    "    def get_initial_items(self, monkeys):\n",
    "        items = []\n",
    "        for monkey in monkeys:\n",
    "            for item in monkeys[monkey][\"items\"]:\n",
    "                items.append(Item(item, item, monkey, str(monkey)))\n",
    "        return items\n",
    "\n",
    "    def iterate_on_items(self, monkeys, items):\n",
    "        for round in tqdm(range(self.rounds)):\n",
    "            for i in monkeys.keys():\n",
    "                m = monkeys[i]\n",
    "                for item in filter(lambda x: x.monkey == i, items):\n",
    "                    m[\"activity\"] += 1\n",
    "                    item.worry_level = self.operations[i](item.worry_level)\n",
    "                    if not self.worry:\n",
    "                        item.worry_level //= 3\n",
    "                    else:\n",
    "                        # How to set the correct worry level? take the modulo of the product of all test divisors\n",
    "                        # Test data\n",
    "                        # item.worry_level %= 23*13*17*19\n",
    "                        # Input data\n",
    "                        item.worry_level %= self.worry_divider_part_2\n",
    "                        \n",
    "                    if (item.worry_level % m[\"divisor\"] == 0):\n",
    "                        item.monkey = m[\"target_true\"]\n",
    "                    else:\n",
    "                        item.monkey = m[\"target_false\"]\n",
    "                    item.monkeys += str(i)\n",
    "\n",
    "    def solve(self):\n",
    "        monkeys = self.get_input_values()\n",
    "        items = self.get_initial_items(monkeys)\n",
    "        self.iterate_on_items(monkeys, items)\n",
    "        two_most_actives = sorted([monkeys[m]['activity'] for m in monkeys], reverse=True)[:2]\n",
    "        return math.prod(two_most_actives)\n"
   ]
  },
  {
   "cell_type": "code",
   "execution_count": 16,
   "metadata": {},
   "outputs": [
    {
     "name": "stdout",
     "output_type": "stream",
     "text": [
      "27\n"
     ]
    },
    {
     "name": "stderr",
     "output_type": "stream",
     "text": [
      "100%|██████████| 20/20 [00:00<?, ?it/s]"
     ]
    },
    {
     "name": "stdout",
     "output_type": "stream",
     "text": [
      "Running AdventOfCode : 10605\n"
     ]
    },
    {
     "name": "stderr",
     "output_type": "stream",
     "text": [
      "\n"
     ]
    },
    {
     "data": {
      "text/plain": [
       "10605"
      ]
     },
     "execution_count": 16,
     "metadata": {},
     "output_type": "execute_result"
    }
   ],
   "source": [
    "test_operations = [\n",
    "        lambda x: x*19,\n",
    "        lambda x: x+6,\n",
    "        lambda x: x*x,\n",
    "        lambda x: x+3,\n",
    "]\n",
    "c = Day11(test_data)\n",
    "c.set_operations(test_operations)\n",
    "c.run()\n",
    "# 10605"
   ]
  },
  {
   "attachments": {},
   "cell_type": "markdown",
   "metadata": {},
   "source": [
    "Part 1"
   ]
  },
  {
   "cell_type": "code",
   "execution_count": 17,
   "metadata": {},
   "outputs": [
    {
     "name": "stdout",
     "output_type": "stream",
     "text": [
      "55\n"
     ]
    },
    {
     "name": "stderr",
     "output_type": "stream",
     "text": [
      "100%|██████████| 20/20 [00:00<?, ?it/s]"
     ]
    },
    {
     "name": "stdout",
     "output_type": "stream",
     "text": [
      "Running AdventOfCode Day11: 50830\n"
     ]
    },
    {
     "name": "stderr",
     "output_type": "stream",
     "text": [
      "\n"
     ]
    },
    {
     "data": {
      "text/plain": [
       "50830"
      ]
     },
     "execution_count": 17,
     "metadata": {},
     "output_type": "execute_result"
    }
   ],
   "source": [
    "from adventofcode import AdventOfCodeFromFileInput\n",
    "\n",
    "operations = [\n",
    "        lambda x: x*19,\n",
    "        lambda x: x+1,\n",
    "        lambda x: x+6,\n",
    "        lambda x: x+5,\n",
    "        lambda x: x*x,\n",
    "        lambda x: x+7,\n",
    "        lambda x: x*7,\n",
    "        lambda x: x+2,\n",
    "]\n",
    "\n",
    "challenge = AdventOfCodeFromFileInput(Day11, \"input_11.txt\")\n",
    "challenge.set_operations(operations)\n",
    "challenge.run()"
   ]
  },
  {
   "attachments": {},
   "cell_type": "markdown",
   "metadata": {},
   "source": [
    "Part 2\n",
    "\n",
    "This part was really tricky. The problem is that after 100+ iterations, the \"square\" operation grows the items worry level exponentially and calculation takes so much time then, it's hard to go past 100+ iterations.\n",
    "\n",
    "First I thought a useful optimization compared to what I did in part 1 was to create a static list of items, where each item tracks its current worry level and monkey. It is way easier to manipulate than my first implementation where each monkey handled a list of items, and the algorithm needed to move items from a monkey to another, performing \"deepcopies\" of the lists. But in the end, this optimization alone did not change the overall result: the algorithm was still stalling after 150+ operations.\n",
    "\n",
    "So how to get the current worry level compensation factor for this part? At first I tried to draw, for each item, the list of all monkeys that the item passes through. By analogy to a directed graph, my goal was to identify loops and \"reduce\" the worry level by cutting the loops. But this did not give any result, I could not identify loops in the path the items were taking.\n",
    "\n",
    "Finally I just spent time on trial and errors and eventually find out that the solution was to take the modulo of the worry level and the product of all operations divisors (eg: `23*13*17*19` for the example).\n",
    "\n",
    "At first I thought this was just a random choice, but after getting the solution I started reading about what others did and I think I start making some sense about it (modular arithmetic is tricky). We don't care about the worry levels themselves, only the states (monkeys) the items go through. And the transitions only depend on modulo operations (which all use prime numbers by the way).\n",
    "\n",
    "So if we find a way to retain the information in the worry level about the modulo operations, the rest is not useful - so the operation to apply is a modulo operation on the worry level itself with an operand that will maintain the information for all possible remaining modulo operations the monkeys will use.\n",
    "\n",
    "Let's draw a simple example:\n",
    "```python\n",
    "In [38]: 287%7\n",
    "Out[38]: 0\n",
    "\n",
    "In [39]: 287%3\n",
    "Out[39]: 2\n",
    "\n",
    "In [40]: 287%(3*7)\n",
    "Out[40]: 14\n",
    "\n",
    "In [41]: 14%7\n",
    "Out[41]: 0\n",
    "\n",
    "In [42]: 14%3\n",
    "Out[42]: 2\n",
    "```\n",
    "We can see that 14 (287%(3*7)) and 287 are congruent modulo 7 and 3.\n",
    "\n",
    "From the example we can also see that as long as the modulo operators are prime, we have the lowest value and thus the maximum \"reduction\" of the worry level. If one of the divisors was not prime, my guess is that the product of all divisors would still work, but would be more than what is needed, because in sumary we need the integer dividers of the divisors.\n",
    "\n",
    "The reference that helped me understand is [Jonathan Paulson's code](https://github.com/jonathanpaulson/AdventOfCode/blob/master/2022/11.py) (also check his youtube AdventOfCode videos - impressive!). "
   ]
  },
  {
   "cell_type": "code",
   "execution_count": 18,
   "metadata": {},
   "outputs": [],
   "source": [
    "class Day11Part2(Day11):\n",
    "    worry = True\n",
    "    rounds = 10000\n",
    "    worry_divider_part_2 = 7*19*5*11*17*13*2*3"
   ]
  },
  {
   "cell_type": "code",
   "execution_count": 19,
   "metadata": {},
   "outputs": [
    {
     "name": "stdout",
     "output_type": "stream",
     "text": [
      "27\n"
     ]
    },
    {
     "name": "stderr",
     "output_type": "stream",
     "text": [
      "100%|██████████| 10000/10000 [00:00<00:00, 28575.06it/s]"
     ]
    },
    {
     "name": "stdout",
     "output_type": "stream",
     "text": [
      "Running AdventOfCode : 2567194800\n"
     ]
    },
    {
     "name": "stderr",
     "output_type": "stream",
     "text": [
      "\n"
     ]
    },
    {
     "data": {
      "text/plain": [
       "2567194800"
      ]
     },
     "execution_count": 19,
     "metadata": {},
     "output_type": "execute_result"
    }
   ],
   "source": [
    "c = Day11Part2(test_data)\n",
    "c.set_operations(test_operations)\n",
    "c.run()"
   ]
  },
  {
   "cell_type": "code",
   "execution_count": 20,
   "metadata": {},
   "outputs": [
    {
     "name": "stdout",
     "output_type": "stream",
     "text": [
      "55\n"
     ]
    },
    {
     "name": "stderr",
     "output_type": "stream",
     "text": [
      "100%|██████████| 10000/10000 [00:01<00:00, 6265.53it/s]"
     ]
    },
    {
     "name": "stdout",
     "output_type": "stream",
     "text": [
      "Running AdventOfCode Day11Part2: 14399640002\n"
     ]
    },
    {
     "name": "stderr",
     "output_type": "stream",
     "text": [
      "\n"
     ]
    },
    {
     "data": {
      "text/plain": [
       "14399640002"
      ]
     },
     "execution_count": 20,
     "metadata": {},
     "output_type": "execute_result"
    }
   ],
   "source": [
    "\n",
    "challenge = AdventOfCodeFromFileInput(Day11Part2, \"input_11.txt\")\n",
    "challenge.set_operations(operations)\n",
    "challenge.run()"
   ]
  }
 ],
 "metadata": {
  "kernelspec": {
   "display_name": "Python 3.9.13 64-bit (microsoft store)",
   "language": "python",
   "name": "python3"
  },
  "language_info": {
   "codemirror_mode": {
    "name": "ipython",
    "version": 3
   },
   "file_extension": ".py",
   "mimetype": "text/x-python",
   "name": "python",
   "nbconvert_exporter": "python",
   "pygments_lexer": "ipython3",
   "version": "3.9.13"
  },
  "orig_nbformat": 4,
  "vscode": {
   "interpreter": {
    "hash": "2b75f2f130f9eb1b131c9f00ea3c2842aaf5f8ceec9a3fb1a2d4529670805511"
   }
  }
 },
 "nbformat": 4,
 "nbformat_minor": 2
}
